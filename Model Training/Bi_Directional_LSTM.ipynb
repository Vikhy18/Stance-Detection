{
  "nbformat": 4,
  "nbformat_minor": 0,
  "metadata": {
    "colab": {
      "provenance": []
    },
    "kernelspec": {
      "name": "python3",
      "display_name": "Python 3"
    },
    "language_info": {
      "name": "python"
    },
    "accelerator": "GPU",
    "gpuClass": "standard"
  },
  "cells": [
    {
      "cell_type": "code",
      "execution_count": null,
      "metadata": {
        "id": "H4-6sGu9Tsqm"
      },
      "outputs": [],
      "source": [
        "import numpy as np\n",
        "import pandas as pd\n",
        "from tensorflow.keras.models import Sequential\n",
        "from tensorflow.keras.layers import Embedding, Bidirectional, LSTM, Dense\n",
        "from tensorflow.keras.preprocessing.text import Tokenizer\n",
        "from tensorflow.keras.preprocessing.sequence import pad_sequences\n",
        "from sklearn.model_selection import train_test_split\n",
        "from google.colab import drive\n",
        "from tensorflow import keras\n",
        "from tensorflow.keras import layers\n",
        "import pickle\n",
        "from keras import backend as K"
      ]
    },
    {
      "cell_type": "code",
      "source": [
        "# Load the dataset\n",
        "drive.mount('/content/drive')\n",
        "df =pd.read_csv(\"/content/drive/MyDrive/SWM/restructured_data.csv\")"
      ],
      "metadata": {
        "colab": {
          "base_uri": "https://localhost:8080/"
        },
        "id": "zflUWRqqT0Za",
        "outputId": "4004728b-5bfe-4025-c88f-4d9266e3836f"
      },
      "execution_count": null,
      "outputs": [
        {
          "output_type": "stream",
          "name": "stdout",
          "text": [
            "Drive already mounted at /content/drive; to attempt to forcibly remount, call drive.mount(\"/content/drive\", force_remount=True).\n"
          ]
        }
      ]
    },
    {
      "cell_type": "code",
      "source": [
        "# Split the dataset into input and output\n",
        "X = df['Data']\n",
        "#X.append(data['reformulated_tweets'])\n",
        "Y=df['Stance']\n",
        "#Y.append(data['stance'])\n",
        "Y = pd.get_dummies(Y).values\n",
        "#targets = df['target'].unique()"
      ],
      "metadata": {
        "id": "x-RqQcdyT0f7"
      },
      "execution_count": null,
      "outputs": []
    },
    {
      "cell_type": "code",
      "source": [
        "tokenizer = Tokenizer(num_words=10000)\n",
        "tokenizer.fit_on_texts(X)\n",
        "X = tokenizer.texts_to_sequences(X)\n",
        "\n",
        "# Pad the sequences\n",
        "maxlen = 100\n",
        "X = pad_sequences(X, padding='post', maxlen=maxlen)\n",
        "\n",
        "# Split the data into training and testing sets\n",
        "X_train, X_test, Y_train, Y_test = train_test_split(X, Y, test_size=0.2, random_state=42)\n",
        "\n"
      ],
      "metadata": {
        "id": "-3UtEw2gT0j5"
      },
      "execution_count": null,
      "outputs": []
    },
    {
      "cell_type": "code",
      "source": [
        "# Input for variable-length sequences of integers\n",
        "inputs = keras.Input(shape=(None,), dtype=\"int32\")\n",
        "# Embed each integer in a 128-dimensional vector\n",
        "x = layers.Embedding(10000, 128)(inputs)\n",
        "# Add 2 bidirectional LSTMs\n",
        "x = layers.Bidirectional(layers.LSTM(64, return_sequences=True))(x)\n",
        "x = layers.Bidirectional(layers.LSTM(64))(x)\n",
        "# Add a classifier\n",
        "outputs = layers.Dense(3, activation=\"sigmoid\")(x)\n",
        "model = keras.Model(inputs, outputs)\n",
        "model.summary()"
      ],
      "metadata": {
        "colab": {
          "base_uri": "https://localhost:8080/"
        },
        "id": "rKpC3b_vT0mq",
        "outputId": "5701cff1-338e-4be4-87c4-c61367c695ab"
      },
      "execution_count": null,
      "outputs": [
        {
          "output_type": "stream",
          "name": "stdout",
          "text": [
            "Model: \"model\"\n",
            "_________________________________________________________________\n",
            " Layer (type)                Output Shape              Param #   \n",
            "=================================================================\n",
            " input_1 (InputLayer)        [(None, None)]            0         \n",
            "                                                                 \n",
            " embedding (Embedding)       (None, None, 128)         1280000   \n",
            "                                                                 \n",
            " bidirectional (Bidirectiona  (None, None, 128)        98816     \n",
            " l)                                                              \n",
            "                                                                 \n",
            " bidirectional_1 (Bidirectio  (None, 128)              98816     \n",
            " nal)                                                            \n",
            "                                                                 \n",
            " dense (Dense)               (None, 3)                 387       \n",
            "                                                                 \n",
            "=================================================================\n",
            "Total params: 1,478,019\n",
            "Trainable params: 1,478,019\n",
            "Non-trainable params: 0\n",
            "_________________________________________________________________\n"
          ]
        }
      ]
    },
    {
      "cell_type": "code",
      "source": [
        "\n",
        "def recall_m(y_true, y_pred):\n",
        "    true_positives = K.sum(K.round(K.clip(y_true * y_pred, 0, 1)))\n",
        "    possible_positives = K.sum(K.round(K.clip(y_true, 0, 1)))\n",
        "    recall = true_positives / (possible_positives + K.epsilon())\n",
        "    return recall\n",
        "\n",
        "def precision_m(y_true, y_pred):\n",
        "    true_positives = K.sum(K.round(K.clip(y_true * y_pred, 0, 1)))\n",
        "    predicted_positives = K.sum(K.round(K.clip(y_pred, 0, 1)))\n",
        "    precision = true_positives / (predicted_positives + K.epsilon())\n",
        "    return precision\n",
        "\n",
        "def f1_m(y_true, y_pred):\n",
        "    precision = precision_m(y_true, y_pred)\n",
        "    recall = recall_m(y_true, y_pred)\n",
        "    return 2*((precision*recall)/(precision+recall+K.epsilon()))"
      ],
      "metadata": {
        "id": "1tbzO-r9n5OB"
      },
      "execution_count": null,
      "outputs": []
    },
    {
      "cell_type": "code",
      "source": [
        "model.compile(\"adam\", \"categorical_crossentropy\", metrics=[\"accuracy\",f1_m,precision_m, recall_m])"
      ],
      "metadata": {
        "id": "-7jM9qRaT0r-"
      },
      "execution_count": null,
      "outputs": []
    },
    {
      "cell_type": "code",
      "source": [
        "# # Define the model\n",
        "# model = Sequential()\n",
        "# model.add(Embedding(10000, 128, input_length=maxlen))\n",
        "# model.add(Bidirectional(LSTM(64)))\n",
        "# model.add(Dense(3, activation='softmax'))\n",
        "\n",
        "# # Compile the model\n",
        "# model.compile(optimizer='adam', loss='categorical_crossentropy', metrics=['accuracy'])\n"
      ],
      "metadata": {
        "id": "nlXXoe50T_4f"
      },
      "execution_count": null,
      "outputs": []
    },
    {
      "cell_type": "code",
      "source": [
        "model.fit(X_train, Y_train, batch_size=64, epochs=25, validation_data=(X_test, Y_test))"
      ],
      "metadata": {
        "colab": {
          "base_uri": "https://localhost:8080/"
        },
        "id": "o4t1tKuzqDGZ",
        "outputId": "2d805872-fc88-4671-f607-2ba8c669b57a"
      },
      "execution_count": null,
      "outputs": [
        {
          "output_type": "stream",
          "name": "stdout",
          "text": [
            "Epoch 1/25\n",
            "36/36 [==============================] - 24s 297ms/step - loss: 1.0116 - accuracy: 0.5220 - f1_m: 0.5419 - precision_m: 0.5142 - recall_m: 0.5758 - val_loss: 0.9818 - val_accuracy: 0.5009 - val_f1_m: 0.5261 - val_precision_m: 0.4500 - val_recall_m: 0.6335\n",
            "Epoch 2/25\n",
            "36/36 [==============================] - 6s 162ms/step - loss: 0.7942 - accuracy: 0.6273 - f1_m: 0.6515 - precision_m: 0.5795 - recall_m: 0.7469 - val_loss: 0.9435 - val_accuracy: 0.5648 - val_f1_m: 0.5813 - val_precision_m: 0.5205 - val_recall_m: 0.6592\n",
            "Epoch 3/25\n",
            "36/36 [==============================] - 6s 172ms/step - loss: 0.5665 - accuracy: 0.7059 - f1_m: 0.7455 - precision_m: 0.6240 - recall_m: 0.9267 - val_loss: 1.0276 - val_accuracy: 0.4849 - val_f1_m: 0.5444 - val_precision_m: 0.4534 - val_recall_m: 0.6813\n",
            "Epoch 4/25\n",
            "36/36 [==============================] - 5s 123ms/step - loss: 0.4610 - accuracy: 0.7503 - f1_m: 0.7698 - precision_m: 0.6383 - recall_m: 0.9701 - val_loss: 1.2310 - val_accuracy: 0.5417 - val_f1_m: 0.5393 - val_precision_m: 0.4415 - val_recall_m: 0.6935\n",
            "Epoch 5/25\n",
            "36/36 [==============================] - 5s 146ms/step - loss: 0.3665 - accuracy: 0.8267 - f1_m: 0.7863 - precision_m: 0.6584 - recall_m: 0.9772 - val_loss: 1.2579 - val_accuracy: 0.5844 - val_f1_m: 0.5852 - val_precision_m: 0.5095 - val_recall_m: 0.6878\n",
            "Epoch 6/25\n",
            "36/36 [==============================] - 2s 68ms/step - loss: 0.2265 - accuracy: 0.8992 - f1_m: 0.8830 - precision_m: 0.8142 - recall_m: 0.9667 - val_loss: 1.3051 - val_accuracy: 0.5648 - val_f1_m: 0.5789 - val_precision_m: 0.5123 - val_recall_m: 0.6657\n",
            "Epoch 7/25\n",
            "36/36 [==============================] - 2s 69ms/step - loss: 0.1986 - accuracy: 0.9107 - f1_m: 0.9045 - precision_m: 0.8402 - recall_m: 0.9805 - val_loss: 1.5186 - val_accuracy: 0.5204 - val_f1_m: 0.5321 - val_precision_m: 0.5030 - val_recall_m: 0.5650\n",
            "Epoch 8/25\n",
            "36/36 [==============================] - 2s 56ms/step - loss: 0.1704 - accuracy: 0.9125 - f1_m: 0.9129 - precision_m: 0.8533 - recall_m: 0.9823 - val_loss: 1.5575 - val_accuracy: 0.5719 - val_f1_m: 0.5848 - val_precision_m: 0.5282 - val_recall_m: 0.6553\n",
            "Epoch 9/25\n",
            "36/36 [==============================] - 2s 52ms/step - loss: 0.1397 - accuracy: 0.9231 - f1_m: 0.9255 - precision_m: 0.8684 - recall_m: 0.9913 - val_loss: 1.7424 - val_accuracy: 0.5773 - val_f1_m: 0.5864 - val_precision_m: 0.5312 - val_recall_m: 0.6548\n",
            "Epoch 10/25\n",
            "36/36 [==============================] - 2s 46ms/step - loss: 0.1306 - accuracy: 0.9245 - f1_m: 0.9296 - precision_m: 0.8751 - recall_m: 0.9922 - val_loss: 1.8598 - val_accuracy: 0.5311 - val_f1_m: 0.5940 - val_precision_m: 0.5378 - val_recall_m: 0.6639\n",
            "Epoch 11/25\n",
            "36/36 [==============================] - 2s 65ms/step - loss: 0.1282 - accuracy: 0.9280 - f1_m: 0.9290 - precision_m: 0.8729 - recall_m: 0.9935 - val_loss: 1.9420 - val_accuracy: 0.5204 - val_f1_m: 0.5748 - val_precision_m: 0.5192 - val_recall_m: 0.6440\n",
            "Epoch 12/25\n",
            "36/36 [==============================] - 2s 60ms/step - loss: 0.1232 - accuracy: 0.9303 - f1_m: 0.9290 - precision_m: 0.8733 - recall_m: 0.9935 - val_loss: 1.9800 - val_accuracy: 0.5773 - val_f1_m: 0.5960 - val_precision_m: 0.5393 - val_recall_m: 0.6666\n",
            "Epoch 13/25\n",
            "36/36 [==============================] - 1s 35ms/step - loss: 0.1233 - accuracy: 0.9227 - f1_m: 0.9313 - precision_m: 0.8770 - recall_m: 0.9935 - val_loss: 1.9874 - val_accuracy: 0.5702 - val_f1_m: 0.5891 - val_precision_m: 0.5322 - val_recall_m: 0.6600\n",
            "Epoch 14/25\n",
            "36/36 [==============================] - 1s 32ms/step - loss: 0.1421 - accuracy: 0.9218 - f1_m: 0.9245 - precision_m: 0.8671 - recall_m: 0.9909 - val_loss: 1.8009 - val_accuracy: 0.5311 - val_f1_m: 0.5926 - val_precision_m: 0.5372 - val_recall_m: 0.6613\n",
            "Epoch 15/25\n",
            "36/36 [==============================] - 2s 50ms/step - loss: 0.1387 - accuracy: 0.9231 - f1_m: 0.9261 - precision_m: 0.8693 - recall_m: 0.9918 - val_loss: 1.8553 - val_accuracy: 0.5044 - val_f1_m: 0.5690 - val_precision_m: 0.5084 - val_recall_m: 0.6466\n",
            "Epoch 16/25\n",
            "36/36 [==============================] - 1s 26ms/step - loss: 0.1311 - accuracy: 0.9254 - f1_m: 0.9281 - precision_m: 0.8723 - recall_m: 0.9922 - val_loss: 1.8549 - val_accuracy: 0.5329 - val_f1_m: 0.5830 - val_precision_m: 0.5220 - val_recall_m: 0.6605\n",
            "Epoch 17/25\n",
            "36/36 [==============================] - 1s 40ms/step - loss: 0.1257 - accuracy: 0.9280 - f1_m: 0.9290 - precision_m: 0.8730 - recall_m: 0.9935 - val_loss: 2.0257 - val_accuracy: 0.5258 - val_f1_m: 0.5843 - val_precision_m: 0.5275 - val_recall_m: 0.6553\n",
            "Epoch 18/25\n",
            "36/36 [==============================] - 1s 33ms/step - loss: 0.1193 - accuracy: 0.9271 - f1_m: 0.9280 - precision_m: 0.8715 - recall_m: 0.9935 - val_loss: 2.0910 - val_accuracy: 0.5719 - val_f1_m: 0.5811 - val_precision_m: 0.5236 - val_recall_m: 0.6531\n",
            "Epoch 19/25\n",
            "36/36 [==============================] - 1s 27ms/step - loss: 0.1165 - accuracy: 0.9294 - f1_m: 0.9321 - precision_m: 0.8784 - recall_m: 0.9935 - val_loss: 2.1675 - val_accuracy: 0.5844 - val_f1_m: 0.5982 - val_precision_m: 0.5412 - val_recall_m: 0.6692\n",
            "Epoch 20/25\n",
            "36/36 [==============================] - 1s 38ms/step - loss: 0.1184 - accuracy: 0.9280 - f1_m: 0.9305 - precision_m: 0.8752 - recall_m: 0.9939 - val_loss: 2.1646 - val_accuracy: 0.5737 - val_f1_m: 0.5910 - val_precision_m: 0.5364 - val_recall_m: 0.6583\n",
            "Epoch 21/25\n",
            "36/36 [==============================] - 2s 49ms/step - loss: 0.1186 - accuracy: 0.9263 - f1_m: 0.9327 - precision_m: 0.8791 - recall_m: 0.9944 - val_loss: 2.2420 - val_accuracy: 0.5826 - val_f1_m: 0.5990 - val_precision_m: 0.5436 - val_recall_m: 0.6674\n",
            "Epoch 22/25\n",
            "36/36 [==============================] - 2s 48ms/step - loss: 0.1180 - accuracy: 0.9276 - f1_m: 0.9325 - precision_m: 0.8788 - recall_m: 0.9939 - val_loss: 2.2562 - val_accuracy: 0.5790 - val_f1_m: 0.5939 - val_precision_m: 0.5391 - val_recall_m: 0.6618\n",
            "Epoch 23/25\n",
            "36/36 [==============================] - 1s 38ms/step - loss: 0.1165 - accuracy: 0.9280 - f1_m: 0.9316 - precision_m: 0.8771 - recall_m: 0.9939 - val_loss: 2.3048 - val_accuracy: 0.5808 - val_f1_m: 0.5948 - val_precision_m: 0.5417 - val_recall_m: 0.6600\n",
            "Epoch 24/25\n",
            "36/36 [==============================] - 1s 32ms/step - loss: 0.1187 - accuracy: 0.9280 - f1_m: 0.9325 - precision_m: 0.8790 - recall_m: 0.9939 - val_loss: 2.3064 - val_accuracy: 0.5293 - val_f1_m: 0.5962 - val_precision_m: 0.5416 - val_recall_m: 0.6635\n",
            "Epoch 25/25\n",
            "36/36 [==============================] - 1s 38ms/step - loss: 0.1168 - accuracy: 0.9231 - f1_m: 0.9306 - precision_m: 0.8755 - recall_m: 0.9939 - val_loss: 2.3326 - val_accuracy: 0.5773 - val_f1_m: 0.5975 - val_precision_m: 0.5436 - val_recall_m: 0.6635\n"
          ]
        },
        {
          "output_type": "execute_result",
          "data": {
            "text/plain": [
              "<keras.callbacks.History at 0x7f71f039ef10>"
            ]
          },
          "metadata": {},
          "execution_count": 15
        }
      ]
    },
    {
      "cell_type": "code",
      "source": [
        "score = model.evaluate(X_test, Y_test, verbose=0)\n",
        "print('Test loss:', score[0])\n",
        "print('Test accuracy:', score[1])\n",
        "score"
      ],
      "metadata": {
        "id": "UaH0WT2DiZu9",
        "colab": {
          "base_uri": "https://localhost:8080/"
        },
        "outputId": "b8d04369-af19-4ba9-fbd4-7cd3c92c49a4"
      },
      "execution_count": null,
      "outputs": [
        {
          "output_type": "stream",
          "name": "stdout",
          "text": [
            "Test loss: 2.3326191902160645\n",
            "Test accuracy: 0.577264666557312\n"
          ]
        },
        {
          "output_type": "execute_result",
          "data": {
            "text/plain": [
              "[2.3326191902160645,\n",
              " 0.577264666557312,\n",
              " 0.5948789715766907,\n",
              " 0.5416694283485413,\n",
              " 0.6606359481811523]"
            ]
          },
          "metadata": {},
          "execution_count": 16
        }
      ]
    },
    {
      "cell_type": "code",
      "source": [
        "print(\"AGAINST:\",Y[0])\n",
        "print(\"FAVOR\",Y[10])\n",
        "print(\"NONE\",Y[9])"
      ],
      "metadata": {
        "id": "7EC_BDXvUF0g",
        "colab": {
          "base_uri": "https://localhost:8080/"
        },
        "outputId": "9c656471-c5ff-4f2f-b348-13ee1f861608"
      },
      "execution_count": null,
      "outputs": [
        {
          "output_type": "stream",
          "name": "stdout",
          "text": [
            "AGAINST: [1 0 0]\n",
            "FAVOR [1 0 0]\n",
            "NONE [1 0 0]\n"
          ]
        }
      ]
    },
    {
      "cell_type": "code",
      "source": [],
      "metadata": {
        "id": "GrOi6JM1iZFk"
      },
      "execution_count": null,
      "outputs": []
    },
    {
      "cell_type": "code",
      "source": [
        "# Predict the stance of new texts\n",
        "new_texts = [\"Women are smart\", \"Feminism is a myth\"]\n",
        "new_targets = [\"Feminist Movement\",\"Feminist Movement\",\"Feminist Movement\"]\n",
        "new_texts = tokenizer.texts_to_sequences(new_texts)\n",
        "new_texts = pad_sequences(new_texts, padding='post', maxlen=maxlen)\n",
        "predictions = []\n",
        "for i in range(len(new_texts)):\n",
        "  pred = model.predict(np.array([new_texts[i]]))\n",
        "  print(pred)\n"
      ],
      "metadata": {
        "id": "KIBkm6LbUGH2",
        "colab": {
          "base_uri": "https://localhost:8080/"
        },
        "outputId": "7f970b49-af66-4d25-dd4c-8f4a645ebde4"
      },
      "execution_count": null,
      "outputs": [
        {
          "output_type": "stream",
          "name": "stdout",
          "text": [
            "1/1 [==============================] - 1s 1s/step\n",
            "[[0.9991411  0.0513379  0.09877845]]\n",
            "1/1 [==============================] - 0s 22ms/step\n",
            "[[0.9992434  0.0485199  0.09780858]]\n"
          ]
        }
      ]
    },
    {
      "cell_type": "code",
      "source": [
        "from sklearn.metrics import classification_report\n",
        "\n",
        "y_pred = model.predict(X_test, batch_size=64, verbose=1)\n",
        "y_pred_bool = np.argmax(Y_test, axis=1)\n",
        "\n",
        "print(classification_report(Y_test, y_pred_bool))"
      ],
      "metadata": {
        "id": "UjpduygmnMFM",
        "colab": {
          "base_uri": "https://localhost:8080/",
          "height": 371
        },
        "outputId": "41a22e4b-a9fe-417a-f281-365e17c4a534"
      },
      "execution_count": null,
      "outputs": [
        {
          "output_type": "stream",
          "name": "stdout",
          "text": [
            "9/9 [==============================] - 0s 13ms/step\n"
          ]
        },
        {
          "output_type": "error",
          "ename": "ValueError",
          "evalue": "ignored",
          "traceback": [
            "\u001b[0;31m---------------------------------------------------------------------------\u001b[0m",
            "\u001b[0;31mValueError\u001b[0m                                Traceback (most recent call last)",
            "\u001b[0;32m<ipython-input-21-7f0acf936ff5>\u001b[0m in \u001b[0;36m<cell line: 6>\u001b[0;34m()\u001b[0m\n\u001b[1;32m      4\u001b[0m \u001b[0my_pred_bool\u001b[0m \u001b[0;34m=\u001b[0m \u001b[0mnp\u001b[0m\u001b[0;34m.\u001b[0m\u001b[0margmax\u001b[0m\u001b[0;34m(\u001b[0m\u001b[0mY_test\u001b[0m\u001b[0;34m,\u001b[0m \u001b[0maxis\u001b[0m\u001b[0;34m=\u001b[0m\u001b[0;36m1\u001b[0m\u001b[0;34m)\u001b[0m\u001b[0;34m\u001b[0m\u001b[0;34m\u001b[0m\u001b[0m\n\u001b[1;32m      5\u001b[0m \u001b[0;34m\u001b[0m\u001b[0m\n\u001b[0;32m----> 6\u001b[0;31m \u001b[0mprint\u001b[0m\u001b[0;34m(\u001b[0m\u001b[0mclassification_report\u001b[0m\u001b[0;34m(\u001b[0m\u001b[0mY_test\u001b[0m\u001b[0;34m,\u001b[0m \u001b[0my_pred_bool\u001b[0m\u001b[0;34m)\u001b[0m\u001b[0;34m)\u001b[0m\u001b[0;34m\u001b[0m\u001b[0;34m\u001b[0m\u001b[0m\n\u001b[0m",
            "\u001b[0;32m/usr/local/lib/python3.9/dist-packages/sklearn/metrics/_classification.py\u001b[0m in \u001b[0;36mclassification_report\u001b[0;34m(y_true, y_pred, labels, target_names, sample_weight, digits, output_dict, zero_division)\u001b[0m\n\u001b[1;32m   2308\u001b[0m     \"\"\"\n\u001b[1;32m   2309\u001b[0m \u001b[0;34m\u001b[0m\u001b[0m\n\u001b[0;32m-> 2310\u001b[0;31m     \u001b[0my_type\u001b[0m\u001b[0;34m,\u001b[0m \u001b[0my_true\u001b[0m\u001b[0;34m,\u001b[0m \u001b[0my_pred\u001b[0m \u001b[0;34m=\u001b[0m \u001b[0m_check_targets\u001b[0m\u001b[0;34m(\u001b[0m\u001b[0my_true\u001b[0m\u001b[0;34m,\u001b[0m \u001b[0my_pred\u001b[0m\u001b[0;34m)\u001b[0m\u001b[0;34m\u001b[0m\u001b[0;34m\u001b[0m\u001b[0m\n\u001b[0m\u001b[1;32m   2311\u001b[0m \u001b[0;34m\u001b[0m\u001b[0m\n\u001b[1;32m   2312\u001b[0m     \u001b[0;32mif\u001b[0m \u001b[0mlabels\u001b[0m \u001b[0;32mis\u001b[0m \u001b[0;32mNone\u001b[0m\u001b[0;34m:\u001b[0m\u001b[0;34m\u001b[0m\u001b[0;34m\u001b[0m\u001b[0m\n",
            "\u001b[0;32m/usr/local/lib/python3.9/dist-packages/sklearn/metrics/_classification.py\u001b[0m in \u001b[0;36m_check_targets\u001b[0;34m(y_true, y_pred)\u001b[0m\n\u001b[1;32m     93\u001b[0m \u001b[0;34m\u001b[0m\u001b[0m\n\u001b[1;32m     94\u001b[0m     \u001b[0;32mif\u001b[0m \u001b[0mlen\u001b[0m\u001b[0;34m(\u001b[0m\u001b[0my_type\u001b[0m\u001b[0;34m)\u001b[0m \u001b[0;34m>\u001b[0m \u001b[0;36m1\u001b[0m\u001b[0;34m:\u001b[0m\u001b[0;34m\u001b[0m\u001b[0;34m\u001b[0m\u001b[0m\n\u001b[0;32m---> 95\u001b[0;31m         raise ValueError(\n\u001b[0m\u001b[1;32m     96\u001b[0m             \"Classification metrics can't handle a mix of {0} and {1} targets\".format(\n\u001b[1;32m     97\u001b[0m                 \u001b[0mtype_true\u001b[0m\u001b[0;34m,\u001b[0m \u001b[0mtype_pred\u001b[0m\u001b[0;34m\u001b[0m\u001b[0;34m\u001b[0m\u001b[0m\n",
            "\u001b[0;31mValueError\u001b[0m: Classification metrics can't handle a mix of multilabel-indicator and multiclass targets"
          ]
        }
      ]
    },
    {
      "cell_type": "code",
      "source": [
        "#pickle.dump(model, open(\"Bi-LSTM.pkl\", 'wb'))\n"
      ],
      "metadata": {
        "id": "eCE2Ff4gUM9B"
      },
      "execution_count": null,
      "outputs": []
    }
  ]
}